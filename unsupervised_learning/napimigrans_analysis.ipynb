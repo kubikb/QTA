{
 "cells": [
  {
   "cell_type": "markdown",
   "metadata": {},
   "source": [
    "# Adatok beolvasása"
   ]
  },
  {
   "cell_type": "code",
   "execution_count": 2,
   "metadata": {
    "collapsed": false
   },
   "outputs": [
    {
     "data": {
      "text/html": [
       "<div>\n",
       "<table border=\"1\" class=\"dataframe\">\n",
       "  <thead>\n",
       "    <tr style=\"text-align: right;\">\n",
       "      <th></th>\n",
       "      <th>url</th>\n",
       "      <th>text</th>\n",
       "    </tr>\n",
       "  </thead>\n",
       "  <tbody>\n",
       "    <tr>\n",
       "      <th>0</th>\n",
       "      <td>http://napimigrans.com/egykori-szexrabszolgakb...</td>\n",
       "      <td>2016-02-11 Több száz, egykor az ISIS fogságába...</td>\n",
       "    </tr>\n",
       "    <tr>\n",
       "      <th>1</th>\n",
       "      <td>http://napimigrans.com/egy-muszlim-rab-megprob...</td>\n",
       "      <td>2016-02-12 Washington – A 25 éves muszlim fogv...</td>\n",
       "    </tr>\n",
       "    <tr>\n",
       "      <th>2</th>\n",
       "      <td>http://napimigrans.com/magyarorszag-fele-szori...</td>\n",
       "      <td>2016-02-21 Horvátország nem engedi tovább a Sz...</td>\n",
       "    </tr>\n",
       "    <tr>\n",
       "      <th>3</th>\n",
       "      <td>http://napimigrans.com/vajon-mikor-hal-meg-az-...</td>\n",
       "      <td>2016-02-24 A népvándorlás nem más, mint egy ol...</td>\n",
       "    </tr>\n",
       "    <tr>\n",
       "      <th>4</th>\n",
       "      <td>http://napimigrans.com/a-parizsi-gyilkosok-sem...</td>\n",
       "      <td>2016-02-16 MILOS ZEMAN A KORÁNRA HIVATKOZIK – ...</td>\n",
       "    </tr>\n",
       "    <tr>\n",
       "      <th>5</th>\n",
       "      <td>http://napimigrans.com/verfurdot-rendezett-az-...</td>\n",
       "      <td>2016-02-09 Több mint 300 embert végeztek ki az...</td>\n",
       "    </tr>\n",
       "    <tr>\n",
       "      <th>6</th>\n",
       "      <td>http://napimigrans.com/video-oriasi-tuntetes-a...</td>\n",
       "      <td>2016-02-21 Minnesota – Úgy látszik az USA-ban ...</td>\n",
       "    </tr>\n",
       "    <tr>\n",
       "      <th>7</th>\n",
       "      <td>http://napimigrans.com/video-220-milliot-kolte...</td>\n",
       "      <td>2016-02-24 Még 2014-ben szó volt róla, hogy né...</td>\n",
       "    </tr>\n",
       "    <tr>\n",
       "      <th>8</th>\n",
       "      <td>http://napimigrans.com/hogyan-romboljuk-le-a-h...</td>\n",
       "      <td>2016-02-21 Az értékek viszonylagosak. Más kult...</td>\n",
       "    </tr>\n",
       "    <tr>\n",
       "      <th>9</th>\n",
       "      <td>http://napimigrans.com/europa-megeroszakolasa-...</td>\n",
       "      <td>2016-02-18 Meghökkentő címlappal jelent meg a ...</td>\n",
       "    </tr>\n",
       "  </tbody>\n",
       "</table>\n",
       "</div>"
      ],
      "text/plain": [
       "                                                 url  \\\n",
       "0  http://napimigrans.com/egykori-szexrabszolgakb...   \n",
       "1  http://napimigrans.com/egy-muszlim-rab-megprob...   \n",
       "2  http://napimigrans.com/magyarorszag-fele-szori...   \n",
       "3  http://napimigrans.com/vajon-mikor-hal-meg-az-...   \n",
       "4  http://napimigrans.com/a-parizsi-gyilkosok-sem...   \n",
       "5  http://napimigrans.com/verfurdot-rendezett-az-...   \n",
       "6  http://napimigrans.com/video-oriasi-tuntetes-a...   \n",
       "7  http://napimigrans.com/video-220-milliot-kolte...   \n",
       "8  http://napimigrans.com/hogyan-romboljuk-le-a-h...   \n",
       "9  http://napimigrans.com/europa-megeroszakolasa-...   \n",
       "\n",
       "                                                text  \n",
       "0  2016-02-11 Több száz, egykor az ISIS fogságába...  \n",
       "1  2016-02-12 Washington – A 25 éves muszlim fogv...  \n",
       "2  2016-02-21 Horvátország nem engedi tovább a Sz...  \n",
       "3  2016-02-24 A népvándorlás nem más, mint egy ol...  \n",
       "4  2016-02-16 MILOS ZEMAN A KORÁNRA HIVATKOZIK – ...  \n",
       "5  2016-02-09 Több mint 300 embert végeztek ki az...  \n",
       "6  2016-02-21 Minnesota – Úgy látszik az USA-ban ...  \n",
       "7  2016-02-24 Még 2014-ben szó volt róla, hogy né...  \n",
       "8  2016-02-21 Az értékek viszonylagosak. Más kult...  \n",
       "9  2016-02-18 Meghökkentő címlappal jelent meg a ...  "
      ]
     },
     "execution_count": 2,
     "metadata": {},
     "output_type": "execute_result"
    }
   ],
   "source": [
    "import pandas as pd\n",
    "\n",
    "url = \"http://qta.tk.mta.hu/uploads/files/napimigrans_corpus.csv\"\n",
    "corpus_df = pd.read_csv(url, sep=\"\\t\", header=None, encoding = \"utf-8\")\n",
    "corpus_df.columns = [\"url\", \"text\"] # Változók átnevezése\n",
    "corpus_df.head(10)"
   ]
  },
  {
   "cell_type": "markdown",
   "metadata": {},
   "source": [
    "# Tokenizáló és szótövező függvény létrehozása"
   ]
  },
  {
   "cell_type": "code",
   "execution_count": 4,
   "metadata": {
    "collapsed": false
   },
   "outputs": [
    {
     "name": "stdout",
     "output_type": "stream",
     "text": [
      "[nltk_data] Downloading package stopwords to\n",
      "[nltk_data]     C:\\Users\\kubik_000\\AppData\\Roaming\\nltk_data...\n",
      "[nltk_data]   Package stopwords is already up-to-date!\n",
      "[nltk_data] Downloading package punkt to\n",
      "[nltk_data]     C:\\Users\\kubik_000\\AppData\\Roaming\\nltk_data...\n",
      "[nltk_data]   Package punkt is already up-to-date!\n",
      "20160211 száz egy isis fogság szexrabszolg szenvedő nő csatlakozot ir egység nap hölgy nevez cél tűzte kiirts írmag őket brutális megkínzó élet eset ör tönkretevő terrorszervezet egység jelenleg körülbel 2000 nő szolgál ők min ember sikeres elszökt terrorista tábor borzalmas kínzás élt mindennap többször megerőszakolta őket mindez vég nézze család szerett kiirtott milíc 2014ben ere tel falv rohan le szemrevalóbb nők lány kivétel minden lemészárol bosszú reményétől vezetv tervez résztvesz mosz ellen offenzív iszla áll nevező szervez ir központ ahonn egység legtöbb tag elszököt milicista id adta őket khat khider parancsn szolgál egység nyilatkozt médiainterjú sor háború dúl vég asszony lesz áldozat megvéd mag gonosz megvéd kisebbség régió érd megtesz tőlün kér khat egy 100 jazid nőnek ak kur peshmarg tiszt képezt nap hölgy egység harcolhass háború sor körülbel isis 56000 jazid ejtet fogság többszörös irtott nagy 2000nek sikerül megszökn fogság egyes önerőből más terrorellenes szervezet segítség többi többség nők leánygyermek tovább is borzalm él terrorszervez kez kiszabadul fogly iszonyatos dolg számol jazid nő szint egység harcol mesél szexrabszolg gyerm születet ak szoptathatot gazdá megtiltott újszülöt sírn kezdet éhség terrorist fogt tovább lefejezt isis üldöz jazid esküdöt kiirtás szerint ördögimádó vallás sajátos kevere kereszténység iszla zoroasztrianizmus körülbel fél millió túlélő jazid jelenleg ir kurdiszt terület menekülttábor tenget élet fegyver fog harcol őket üldöző terrorista orientalistahu\n",
      "2016-02-11 Több száz, egykor az ISIS fogságában, szexrabszolgaként szenvedő nő csatlakozott ahhoz az iraki egységhez, mely a Nap Hölgyeinek nevezi magát, s mely célul tűzte ki azt, hogy kiirtsa az utolsó írmagjáig az őket brutálisan megkínzó és életüket sok esetben örökre tönkretevő terrorszervezetet. Az egységben jelenleg körülbelül 2000 nő szolgál, ők mind olyan emberek, akik sikeresen elszöktek a terroristák táboraiból, ahol borzalmas kínzásokat éltek át, mindennap többször megerőszakolták őket, mindezt pedig azután, hogy végig kellett nézzék, ahogy a családjaikat, szeretteiket kiirtotta a milícia még 2014-ben, amikor ereje teljében falvakat rohant le, ahol általában a szemrevalóbb nők és lányok kivételével mindenkit lemészárolt. Most, a bosszú reményétől vezetve azt tervezik, hogy résztvesznek a Moszul elleni offenzívában, mely a magát Iszlám Államnak nevező szervezet iraki központja, és ahonnan az egység legtöbb tagja elszökött, ugyanis a milicisták általában ide adták el őket. Khatoon Khider, aki parancsnokként szolgál az egységben, ezt nyilatkozta egy médiainterjú során: „Amikor háború dúl, annak végén mindig az asszonyok lesznek az áldozatok. (…) Most azonban megvédjük magunkat a gonosztól. Megvédünk minden kisebbséget a régióban, és ennek érdekében mindent megteszünk, amit tőlünk kérnek.” Khatoon egyike annak a 100 jazidi nőnek, akiket a kurd Peshmarga tisztjei képeztek ki, hogy a Nap Hölgyei egységben harcolhasson. A háborúk során körülbelül az ISIS 5-6000 jazidit ejtett fogságba (és ennek többszörösét irtotta ki), ezek közül nagyjából 2000-nek sikerült megszökni a fogságból, egyeseknek önerőből, másoknak terrorellenes szervezetek segítségével. A többiek viszont, többségében nők és leánygyermekek továbbra is borzalmakat élnek át a terrorszervezet kezei között.  A kiszabadult foglyok iszonyatos dolgokról számolnak be. Egy másik jazidi nő, aki szintén az egységben harcol, arról mesélt, hogy amíg szexrabszolga volt, gyermeke született, akit azonban nem szoptathatott, mert a gazdája megtiltotta neki. Mikor aztán az újszülött sírni kezdett éhségében, a terrorista fogta és minden további nélkül lefejezte. Az ISIS azért üldözi a jazidikat, és azért esküdött fel teljes kiirtásukra, mert szerinte azok ördögimádók: ugyanis vallásuk egy sajátos keveréke a kereszténységnek, iszlámnak és zoroasztrianizmusnak. A körülbelül fél millió túlélő jazidi jelenleg Iraki Kurdisztán területén, menekülttáborokban tengeti életét, vagy pedig fegyvert fog és harcol az őket üldöző terroristák ellen. Orientalista.hu \n"
     ]
    }
   ],
   "source": [
    "import nltk\n",
    "from nltk.tokenize import word_tokenize\n",
    "from nltk.corpus import stopwords\n",
    "from nltk.stem.snowball import SnowballStemmer\n",
    "import unicodedata\n",
    "\n",
    "stemmer = SnowballStemmer(\"hungarian\")\n",
    "nltk.download(\"stopwords\")\n",
    "nltk.download('punkt')\n",
    "\n",
    "# Function to remove punctuation from string\n",
    "def strip_punctuation(text):\n",
    "    punctutation_cats = set(['Pc', 'Pd', 'Ps', 'Pe', 'Pi', 'Pf', 'Po'])\n",
    "    return ''.join(x for x in text\n",
    "                   if unicodedata.category(x) not in punctutation_cats)\n",
    "\n",
    "# Function to tokenize descriptions\n",
    "def tokenize_article(text):\n",
    "    text = text.lower() # to lowercase\n",
    "    text = strip_punctuation(text) # Strip punctuation\n",
    "    tokenized_text = word_tokenize(text) # Tokenize the text\n",
    "    tokenized_text = [word for word in tokenized_text \n",
    "                      if word not in stopwords.words('hungarian')] # Remove stopwords\n",
    "    tokenized_text = map(stemmer.stem,tokenized_text) # Stemming\n",
    "    return tokenized_text\n",
    "\n",
    "print \" \".join(tokenize_article(corpus_df[\"text\"][0]))\n",
    "print corpus_df[\"text\"][0]"
   ]
  },
  {
   "cell_type": "markdown",
   "metadata": {},
   "source": [
    "# Dokumentum-kifejezés mátrix létrehozása"
   ]
  },
  {
   "cell_type": "code",
   "execution_count": 5,
   "metadata": {
    "collapsed": false
   },
   "outputs": [],
   "source": [
    "from sklearn.feature_extraction.text import CountVectorizer\n",
    "\n",
    "vectorizer = CountVectorizer(tokenizer = tokenize_article)\n",
    "document_term_matrix = vectorizer.fit_transform(corpus_df[\"text\"])"
   ]
  },
  {
   "cell_type": "markdown",
   "metadata": {},
   "source": [
    "# TF-IDF súlyozás"
   ]
  },
  {
   "cell_type": "code",
   "execution_count": 6,
   "metadata": {
    "collapsed": false
   },
   "outputs": [],
   "source": [
    "from sklearn.feature_extraction.text import TfidfTransformer\n",
    "\n",
    "transformer = TfidfTransformer()\n",
    "tfidf_matrix = transformer.fit_transform(document_term_matrix)"
   ]
  },
  {
   "cell_type": "markdown",
   "metadata": {},
   "source": [
    "Az első szöveg 10 legnagyobb TF-IDF súllyal rendelkező szava"
   ]
  },
  {
   "cell_type": "code",
   "execution_count": 11,
   "metadata": {
    "collapsed": false
   },
   "outputs": [
    {
     "data": {
      "image/png": "[encoded data removed]",
      "text/plain": [
       "<matplotlib.figure.Figure at 0x75092b0>"
      ]
     },
     "metadata": {},
     "output_type": "display_data"
    }
   ],
   "source": [
    "import matplotlib.pyplot as plt\n",
    "%matplotlib inline\n",
    "\n",
    "feature_names = vectorizer.get_feature_names()\n",
    "tfidf_weights = tfidf_matrix.todense()[0,].tolist()[0]\n",
    "names_and_weights = zip(feature_names, tfidf_weights)\n",
    "names_and_weights = sorted(names_and_weights, key=lambda tup: tup[1], reverse=True)\n",
    "words_and_weights = []\n",
    "for item in names_and_weights[:10]:\n",
    "    words_and_weights.append((item[0], item[1])) \n",
    "#print [item for item in names_and_weights if item[1]>0.0]\n",
    "\n",
    "from __future__ import unicode_literals\n",
    "\n",
    "plt.rc('font', family='Arial', size=13)\n",
    "\n",
    "ind = np.arange(len(words_and_weights))  # the x locations for the groups\n",
    "width = 0.5       # the width of the bars\n",
    "\n",
    "fig, ax = plt.subplots()\n",
    "rects1 = ax.bar(ind, map(lambda x: x[1], words_and_weights),\n",
    "                width, color='b')\n",
    "\n",
    "#womenMeans = dominant_topics\n",
    "#rects2 = ax.bar(ind + width, topic_memberships, width, color='y')\n",
    "\n",
    "# add some text for labels, title and axes ticks\n",
    "ax.set_ylabel(u'Elemszám')\n",
    "ax.set_xticks(ind + width)\n",
    "ax.set_xticklabels(map(lambda x: x[0], words_and_weights),\n",
    "                  rotation=-60)\n",
    "\n",
    "plt.show()"
   ]
  },
  {
   "cell_type": "markdown",
   "metadata": {},
   "source": [
    "# Koszinusz hasonlóságok meghatározása"
   ]
  },
  {
   "cell_type": "code",
   "execution_count": 12,
   "metadata": {
    "collapsed": false
   },
   "outputs": [
    {
     "data": {
      "text/plain": [
       "array([[ 1.        ,  0.03714459,  0.00683204, ...,  0.01371461,\n",
       "         0.0283652 ,  0.01333446],\n",
       "       [ 0.03714459,  1.        ,  0.01294815, ...,  0.        ,\n",
       "         0.01837278,  0.00362946],\n",
       "       [ 0.00683204,  0.01294815,  1.        , ...,  0.00786881,\n",
       "         0.01534209,  0.02308356],\n",
       "       ..., \n",
       "       [ 0.01371461,  0.        ,  0.00786881, ...,  1.        ,\n",
       "         0.00699566,  0.        ],\n",
       "       [ 0.0283652 ,  0.01837278,  0.01534209, ...,  0.00699566,\n",
       "         1.        ,  0.02411675],\n",
       "       [ 0.01333446,  0.00362946,  0.02308356, ...,  0.        ,\n",
       "         0.02411675,  1.        ]])"
      ]
     },
     "execution_count": 12,
     "metadata": {},
     "output_type": "execute_result"
    }
   ],
   "source": [
    "from sklearn.metrics.pairwise import cosine_similarity\n",
    "cos_sim_matrix = cosine_similarity(tfidf_matrix)\n",
    "cos_sim_matrix"
   ]
  },
  {
   "cell_type": "markdown",
   "metadata": {},
   "source": [
    "Az korpusz első szövegéhez leginkább hasonló szöveg megtalálása"
   ]
  },
  {
   "cell_type": "code",
   "execution_count": 8,
   "metadata": {
    "collapsed": false
   },
   "outputs": [
    {
     "name": "stdout",
     "output_type": "stream",
     "text": [
      "50\n",
      "0.110201571422\n",
      "2016-02-12 Néhány élelmiszer ára rendkívüli módon megemelkedett az utóbbi hetekben Deir Ez-Zour több, az Iszlám Állam által körbezárt és ostrom alatt tartott kerületének piacain. Ugyanakkor itt legalább van élelmiszer, nem úgy, mint az ISIS illetve a „mérsékelt” ellenzék által uralt területeken – például Madayában – ahol a terrorcsoportok szabályosan éheztetik a lakosságot. Elöljáróban annyit mindenképpen fontos tudni, hogy míg négy évvel ezelőtt 1 szír font 4 forintot ért, addig ma 1 forint már körülbelül 1,5 szír fontba kerül – ez a hiperinfláció a háború „természetes” velejárója, sajnos… Az átlagkereset Szíriában az elmúlt négy év során körülbelül 20-30%-kal növekedett, az élelmiszerárak viszont ennek többszörösével. Az átlagkereset jelenleg havi 25 ezer szír font. Ez napjainkban körülbelül 60 euró, 2011-ben ugyanez 350 eurót ért. A következő élelmiszerárakat ennek fényében nézzük meg: A magát Iszlám Államnak nevező terrorszervezet ellenőrzi Raqqa tartomány teljes egészét, valamint a város egyes részeit, a szíriai hadsereg pedig a város nagyobbik hányadát. Az ostromgyűrűben a Deir Ez-Zourt hősiesen védő katonák az Iszlám Állam rengetegében továbbra is tartják magukat, pedig a hozzájuk legközelebb eső szíriai támaszpont gyakorlatilag elérhetetlen messzeségben van. A honvédő háború, mely várhatóan nem a közeljövőben fog befejeződni, továbbra is folytatódik. Orientalista.hu – Syriana \n"
     ]
    }
   ],
   "source": [
    "import numpy as np\n",
    "print np.argmax(cos_sim_matrix[0,1:])\n",
    "print cos_sim_matrix[0,1:][50]\n",
    "print corpus_df[\"text\"][51]"
   ]
  },
  {
   "cell_type": "markdown",
   "metadata": {},
   "source": [
    "# K-közép klaszterezés"
   ]
  },
  {
   "cell_type": "code",
   "execution_count": 13,
   "metadata": {
    "collapsed": false
   },
   "outputs": [
    {
     "data": {
      "text/plain": [
       "KMeans(copy_x=True, init='k-means++', max_iter=300, n_clusters=5, n_init=10,\n",
       "    n_jobs=1, precompute_distances='auto', random_state=1, tol=0.0001,\n",
       "    verbose=0)"
      ]
     },
     "execution_count": 13,
     "metadata": {},
     "output_type": "execute_result"
    }
   ],
   "source": [
    "from sklearn.cluster import KMeans\n",
    "\n",
    "num_clusters=5\n",
    "km = KMeans(n_clusters=num_clusters,\n",
    "           random_state=1)\n",
    "km.fit(tfidf_matrix)"
   ]
  },
  {
   "cell_type": "code",
   "execution_count": 24,
   "metadata": {
    "collapsed": false
   },
   "outputs": [
    {
     "data": {
      "text/html": [
       "<div>\n",
       "<table border=\"1\" class=\"dataframe\">\n",
       "  <thead>\n",
       "    <tr style=\"text-align: right;\">\n",
       "      <th></th>\n",
       "      <th>url</th>\n",
       "      <th>text</th>\n",
       "      <th>cluster_membership</th>\n",
       "      <th>dominant_topics</th>\n",
       "    </tr>\n",
       "  </thead>\n",
       "  <tbody>\n",
       "    <tr>\n",
       "      <th>0</th>\n",
       "      <td>http://napimigrans.com/egykori-szexrabszolgakb...</td>\n",
       "      <td>2016-02-11 Több száz, egykor az ISIS fogságába...</td>\n",
       "      <td>3</td>\n",
       "      <td>3</td>\n",
       "    </tr>\n",
       "    <tr>\n",
       "      <th>1</th>\n",
       "      <td>http://napimigrans.com/egy-muszlim-rab-megprob...</td>\n",
       "      <td>2016-02-12 Washington – A 25 éves muszlim fogv...</td>\n",
       "      <td>3</td>\n",
       "      <td>3</td>\n",
       "    </tr>\n",
       "    <tr>\n",
       "      <th>2</th>\n",
       "      <td>http://napimigrans.com/magyarorszag-fele-szori...</td>\n",
       "      <td>2016-02-21 Horvátország nem engedi tovább a Sz...</td>\n",
       "      <td>0</td>\n",
       "      <td>0</td>\n",
       "    </tr>\n",
       "    <tr>\n",
       "      <th>3</th>\n",
       "      <td>http://napimigrans.com/vajon-mikor-hal-meg-az-...</td>\n",
       "      <td>2016-02-24 A népvándorlás nem más, mint egy ol...</td>\n",
       "      <td>0</td>\n",
       "      <td>0</td>\n",
       "    </tr>\n",
       "    <tr>\n",
       "      <th>4</th>\n",
       "      <td>http://napimigrans.com/a-parizsi-gyilkosok-sem...</td>\n",
       "      <td>2016-02-16 MILOS ZEMAN A KORÁNRA HIVATKOZIK – ...</td>\n",
       "      <td>0</td>\n",
       "      <td>0</td>\n",
       "    </tr>\n",
       "    <tr>\n",
       "      <th>5</th>\n",
       "      <td>http://napimigrans.com/verfurdot-rendezett-az-...</td>\n",
       "      <td>2016-02-09 Több mint 300 embert végeztek ki az...</td>\n",
       "      <td>1</td>\n",
       "      <td>3</td>\n",
       "    </tr>\n",
       "    <tr>\n",
       "      <th>6</th>\n",
       "      <td>http://napimigrans.com/video-oriasi-tuntetes-a...</td>\n",
       "      <td>2016-02-21 Minnesota – Úgy látszik az USA-ban ...</td>\n",
       "      <td>4</td>\n",
       "      <td>3</td>\n",
       "    </tr>\n",
       "    <tr>\n",
       "      <th>7</th>\n",
       "      <td>http://napimigrans.com/video-220-milliot-kolte...</td>\n",
       "      <td>2016-02-24 Még 2014-ben szó volt róla, hogy né...</td>\n",
       "      <td>1</td>\n",
       "      <td>3</td>\n",
       "    </tr>\n",
       "    <tr>\n",
       "      <th>8</th>\n",
       "      <td>http://napimigrans.com/hogyan-romboljuk-le-a-h...</td>\n",
       "      <td>2016-02-21 Az értékek viszonylagosak. Más kult...</td>\n",
       "      <td>3</td>\n",
       "      <td>2</td>\n",
       "    </tr>\n",
       "    <tr>\n",
       "      <th>9</th>\n",
       "      <td>http://napimigrans.com/europa-megeroszakolasa-...</td>\n",
       "      <td>2016-02-18 Meghökkentő címlappal jelent meg a ...</td>\n",
       "      <td>4</td>\n",
       "      <td>3</td>\n",
       "    </tr>\n",
       "  </tbody>\n",
       "</table>\n",
       "</div>"
      ],
      "text/plain": [
       "                                                 url  \\\n",
       "0  http://napimigrans.com/egykori-szexrabszolgakb...   \n",
       "1  http://napimigrans.com/egy-muszlim-rab-megprob...   \n",
       "2  http://napimigrans.com/magyarorszag-fele-szori...   \n",
       "3  http://napimigrans.com/vajon-mikor-hal-meg-az-...   \n",
       "4  http://napimigrans.com/a-parizsi-gyilkosok-sem...   \n",
       "5  http://napimigrans.com/verfurdot-rendezett-az-...   \n",
       "6  http://napimigrans.com/video-oriasi-tuntetes-a...   \n",
       "7  http://napimigrans.com/video-220-milliot-kolte...   \n",
       "8  http://napimigrans.com/hogyan-romboljuk-le-a-h...   \n",
       "9  http://napimigrans.com/europa-megeroszakolasa-...   \n",
       "\n",
       "                                                text  cluster_membership  \\\n",
       "0  2016-02-11 Több száz, egykor az ISIS fogságába...                   3   \n",
       "1  2016-02-12 Washington – A 25 éves muszlim fogv...                   3   \n",
       "2  2016-02-21 Horvátország nem engedi tovább a Sz...                   0   \n",
       "3  2016-02-24 A népvándorlás nem más, mint egy ol...                   0   \n",
       "4  2016-02-16 MILOS ZEMAN A KORÁNRA HIVATKOZIK – ...                   0   \n",
       "5  2016-02-09 Több mint 300 embert végeztek ki az...                   1   \n",
       "6  2016-02-21 Minnesota – Úgy látszik az USA-ban ...                   4   \n",
       "7  2016-02-24 Még 2014-ben szó volt róla, hogy né...                   1   \n",
       "8  2016-02-21 Az értékek viszonylagosak. Más kult...                   3   \n",
       "9  2016-02-18 Meghökkentő címlappal jelent meg a ...                   4   \n",
       "\n",
       "   dominant_topics  \n",
       "0                3  \n",
       "1                3  \n",
       "2                0  \n",
       "3                0  \n",
       "4                0  \n",
       "5                3  \n",
       "6                3  \n",
       "7                3  \n",
       "8                2  \n",
       "9                3  "
      ]
     },
     "execution_count": 24,
     "metadata": {},
     "output_type": "execute_result"
    }
   ],
   "source": [
    "memberships = list(km.labels_)\n",
    "corpus_df[\"cluster_membership\"] = memberships\n",
    "corpus_df.head(10)"
   ]
  },
  {
   "cell_type": "code",
   "execution_count": 26,
   "metadata": {
    "collapsed": false
   },
   "outputs": [
    {
     "data": {
      "image/png": "[encoded data removed]",
      "text/plain": [
       "<matplotlib.figure.Figure at 0x1bb3bf60>"
      ]
     },
     "metadata": {},
     "output_type": "display_data"
    }
   ],
   "source": [
    "from operator import itemgetter\n",
    "import collections\n",
    "\n",
    "N = 5\n",
    "counter=collections.Counter(memberships)\n",
    "cluster_memberships=[item[1] for item in\n",
    "                     sorted(counter.items(), key=itemgetter(0))]\n",
    "\n",
    "counter=collections.Counter(dominant_topics)\n",
    "topic_memberships=[item[1] for item in\n",
    "                   sorted(counter.items(), key=itemgetter(0))]\n",
    "\n",
    "ind = np.arange(N)  # the x locations for the groups\n",
    "width = 0.5       # the width of the bars\n",
    "\n",
    "fig, ax = plt.subplots()\n",
    "rects1 = ax.bar(ind, cluster_memberships, width, color='b')\n",
    "\n",
    "#womenMeans = dominant_topics\n",
    "#rects2 = ax.bar(ind + width, topic_memberships, width, color='y')\n",
    "\n",
    "# add some text for labels, title and axes ticks\n",
    "ax.set_ylabel(u'Elemszám')\n",
    "ax.set_xticks(ind + width)\n",
    "ax.set_xticklabels(('1. klaszter', \n",
    "                    '2. klaszter', \n",
    "                    '3. klaszter', \n",
    "                    '4. klaszter', \n",
    "                    '5. klaszter'),\n",
    "                  rotation=-45)\n",
    "\n",
    "def autolabel(rects):\n",
    "    # attach some text labels\n",
    "    for rect in rects:\n",
    "        height = rect.get_height()\n",
    "        ax.text(rect.get_x() + rect.get_width()/2., height,\n",
    "                '%d' % int(height),\n",
    "                ha='center', va='bottom')\n",
    "\n",
    "autolabel(rects1)\n",
    "\n",
    "plt.show()"
   ]
  },
  {
   "cell_type": "code",
   "execution_count": 17,
   "metadata": {
    "collapsed": false
   },
   "outputs": [
    {
     "name": "stdout",
     "output_type": "stream",
     "text": [
      "1. klaszter\n",
      "európ, határ, is, ország, migráns, szerb, merkel, bevándorló, görög, macedón, ha, menekült, kancellár, ném, németország, iszla, görögország, unió, nat, mondt, ember, ez, áll, nyom, rendőr, eu, uniós, fog, vezető, kerítés\n",
      "\n",
      "2. klaszter\n",
      "tör, iszla, szír, áll, hadsereg, szíri, város, is, kur, katon, öngyilkos, törökország, szerd, svéd, eln, férf, ész, egység, merénylet, erdog, iszlamista, rész, orosz, támadás, iszlamist, tartomány, terrorista, forrás, erő, katona\n",
      "\n",
      "3. klaszter\n",
      "20160222, bíróság, év, 20160221, 20160224, vádlott, migráns, ügy, is, lány, szeged, nyom, bűncselekmény, rendőr, bűntett, szám, facebo, ügyészség, magyarország, éves, ké, férf, határsértő, vádlot, határzár, iszla, tegnap, mti, calais, illegális\n",
      "\n",
      "4. klaszter\n",
      "is, férf, éves, rendőrség, gyer, bűncselekmény, ember, ir, részlet, tovább, őket, allah, kisfiú, lány, áldoz, nyom, az, vallás, iszla, ak, nő, szexuális, menekült, törvény, támadás, gyerm, 20160210, eset, miat, hár\n",
      "\n",
      "5. klaszter\n",
      "20160214, közzétett, 2016, un, február, par, tvben, látsz, videó, európ, tüntetés, français, 14, megin, látható, métr, of, vaj, merkel, menekülttábor, fehér, 2015, elkövető, the, bevándorló, us, gyerek, an, ellenes, bolt\n",
      "\n"
     ]
    }
   ],
   "source": [
    "terms = vectorizer.get_feature_names()\n",
    "order_centroids = km.cluster_centers_.argsort()[:,::-1]\n",
    "for i in range(0,num_clusters):\n",
    "    print \"%s. klaszter\" % (i+1)\n",
    "    term_list = []\n",
    "    for ind in order_centroids[i,:30]:\n",
    "        term_list.append(terms[ind])\n",
    "    print \", \".join(term_list)+\"\\n\""
   ]
  },
  {
   "cell_type": "markdown",
   "metadata": {},
   "source": [
    "# Látens Dirichlet allokáció"
   ]
  },
  {
   "cell_type": "code",
   "execution_count": 18,
   "metadata": {
    "collapsed": false
   },
   "outputs": [
    {
     "data": {
      "text/plain": [
       "LatentDirichletAllocation(batch_size=128, doc_topic_prior=None,\n",
       "             evaluate_every=-1, learning_decay=0.7,\n",
       "             learning_method='online', learning_offset=10.0,\n",
       "             max_doc_update_iter=100, max_iter=10, mean_change_tol=0.001,\n",
       "             n_jobs=1, n_topics=5, perp_tol=0.1, random_state=1,\n",
       "             topic_word_prior=None, total_samples=1000000.0, verbose=0)"
      ]
     },
     "execution_count": 18,
     "metadata": {},
     "output_type": "execute_result"
    }
   ],
   "source": [
    "from sklearn.decomposition import LatentDirichletAllocation\n",
    "\n",
    "lda = LatentDirichletAllocation(n_topics = 5,\n",
    "                               random_state = 1)\n",
    "lda.fit(document_term_matrix)"
   ]
  },
  {
   "cell_type": "code",
   "execution_count": 20,
   "metadata": {
    "collapsed": false
   },
   "outputs": [
    {
     "name": "stdout",
     "output_type": "stream",
     "text": [
      "1. téma\n",
      "is, határ, európ, migráns, ország, szerb, bevándorló, nyom, unió, ha, rendőr, menekült, merkel, fog, magyar, vég, útvonal, magyarország, mti, kerítés, németország, ót, törökország, illegális, macedón, határsértő, év, ember, február, tör\n",
      "2. téma\n",
      "the, ahluwal, new, yor, of, an, gyilkosság, sykes, légitársaság, is, was, nélkül, at, nő, cutler, felvétel, utc, outs, punch, őket, university, közzétett, stop, kisfiú, fehér, fash, divatvilág, szikh, turbán, cnnnek\n",
      "3. téma\n",
      "kultúra, egyenlő, kultú, kultúr, valamenny, calais, is, muzulm, jelenleg, migráns, miat, feleség, őket, rendőrség, ezer, ha, bíráln, ember, hely, érték, vallás, gyerek, euró, tesz, kellen, dzsungel, nyugateuróp, 20160213, első, szervez\n",
      "4. téma\n",
      "is, iszla, hadsereg, város, férf, áll, ember, katon, tör, éves, szíri, európ, rész, terrorist, ország, tartomány, nap, ellen, forrás, év, egység, terrorista, nyom, rendőrség, szír, ha, erő, őket, mag, kur\n",
      "5. téma\n",
      "un, par, vádlott, français, szeged, franc, femm, à, közzétett, bíróság, ausztrál, racism, 20160224, február, segély, százale, hét, le, 2016, mun, antiblanc, dans, pas, ét, la, sos, en, dun, ké, 20160218\n"
     ]
    }
   ],
   "source": [
    "for topic_idx, topic in enumerate(lda.components_):\n",
    "    print \"%s. téma\" % (topic_idx + 1)\n",
    "    print \", \".join([vectorizer.get_feature_names()[i]\n",
    "                    for i in topic.argsort()[:-30 - 1:-1]])"
   ]
  },
  {
   "cell_type": "code",
   "execution_count": 22,
   "metadata": {
    "collapsed": false
   },
   "outputs": [
    {
     "name": "stdout",
     "output_type": "stream",
     "text": [
      "<type 'numpy.ndarray'>\n",
      "(168L,)\n"
     ]
    }
   ],
   "source": [
    "import numpy as np\n",
    "\n",
    "lda_doc_topics = lda.fit_transform(document_term_matrix)\n",
    "dominant_topics = np.argmax(lda_doc_topics, axis=1)\n",
    "print type(dominant_topics)\n",
    "print dominant_topics.shape"
   ]
  },
  {
   "cell_type": "code",
   "execution_count": 23,
   "metadata": {
    "collapsed": false,
    "scrolled": true
   },
   "outputs": [
    {
     "data": {
      "text/html": [
       "<div>\n",
       "<table border=\"1\" class=\"dataframe\">\n",
       "  <thead>\n",
       "    <tr style=\"text-align: right;\">\n",
       "      <th></th>\n",
       "      <th>url</th>\n",
       "      <th>text</th>\n",
       "      <th>cluster_membership</th>\n",
       "      <th>dominant_topics</th>\n",
       "    </tr>\n",
       "  </thead>\n",
       "  <tbody>\n",
       "    <tr>\n",
       "      <th>0</th>\n",
       "      <td>http://napimigrans.com/egykori-szexrabszolgakb...</td>\n",
       "      <td>2016-02-11 Több száz, egykor az ISIS fogságába...</td>\n",
       "      <td>3</td>\n",
       "      <td>3</td>\n",
       "    </tr>\n",
       "    <tr>\n",
       "      <th>1</th>\n",
       "      <td>http://napimigrans.com/egy-muszlim-rab-megprob...</td>\n",
       "      <td>2016-02-12 Washington – A 25 éves muszlim fogv...</td>\n",
       "      <td>3</td>\n",
       "      <td>3</td>\n",
       "    </tr>\n",
       "    <tr>\n",
       "      <th>2</th>\n",
       "      <td>http://napimigrans.com/magyarorszag-fele-szori...</td>\n",
       "      <td>2016-02-21 Horvátország nem engedi tovább a Sz...</td>\n",
       "      <td>0</td>\n",
       "      <td>0</td>\n",
       "    </tr>\n",
       "    <tr>\n",
       "      <th>3</th>\n",
       "      <td>http://napimigrans.com/vajon-mikor-hal-meg-az-...</td>\n",
       "      <td>2016-02-24 A népvándorlás nem más, mint egy ol...</td>\n",
       "      <td>0</td>\n",
       "      <td>0</td>\n",
       "    </tr>\n",
       "    <tr>\n",
       "      <th>4</th>\n",
       "      <td>http://napimigrans.com/a-parizsi-gyilkosok-sem...</td>\n",
       "      <td>2016-02-16 MILOS ZEMAN A KORÁNRA HIVATKOZIK – ...</td>\n",
       "      <td>0</td>\n",
       "      <td>0</td>\n",
       "    </tr>\n",
       "    <tr>\n",
       "      <th>5</th>\n",
       "      <td>http://napimigrans.com/verfurdot-rendezett-az-...</td>\n",
       "      <td>2016-02-09 Több mint 300 embert végeztek ki az...</td>\n",
       "      <td>1</td>\n",
       "      <td>3</td>\n",
       "    </tr>\n",
       "    <tr>\n",
       "      <th>6</th>\n",
       "      <td>http://napimigrans.com/video-oriasi-tuntetes-a...</td>\n",
       "      <td>2016-02-21 Minnesota – Úgy látszik az USA-ban ...</td>\n",
       "      <td>4</td>\n",
       "      <td>3</td>\n",
       "    </tr>\n",
       "    <tr>\n",
       "      <th>7</th>\n",
       "      <td>http://napimigrans.com/video-220-milliot-kolte...</td>\n",
       "      <td>2016-02-24 Még 2014-ben szó volt róla, hogy né...</td>\n",
       "      <td>1</td>\n",
       "      <td>3</td>\n",
       "    </tr>\n",
       "    <tr>\n",
       "      <th>8</th>\n",
       "      <td>http://napimigrans.com/hogyan-romboljuk-le-a-h...</td>\n",
       "      <td>2016-02-21 Az értékek viszonylagosak. Más kult...</td>\n",
       "      <td>3</td>\n",
       "      <td>2</td>\n",
       "    </tr>\n",
       "    <tr>\n",
       "      <th>9</th>\n",
       "      <td>http://napimigrans.com/europa-megeroszakolasa-...</td>\n",
       "      <td>2016-02-18 Meghökkentő címlappal jelent meg a ...</td>\n",
       "      <td>4</td>\n",
       "      <td>3</td>\n",
       "    </tr>\n",
       "  </tbody>\n",
       "</table>\n",
       "</div>"
      ],
      "text/plain": [
       "                                                 url  \\\n",
       "0  http://napimigrans.com/egykori-szexrabszolgakb...   \n",
       "1  http://napimigrans.com/egy-muszlim-rab-megprob...   \n",
       "2  http://napimigrans.com/magyarorszag-fele-szori...   \n",
       "3  http://napimigrans.com/vajon-mikor-hal-meg-az-...   \n",
       "4  http://napimigrans.com/a-parizsi-gyilkosok-sem...   \n",
       "5  http://napimigrans.com/verfurdot-rendezett-az-...   \n",
       "6  http://napimigrans.com/video-oriasi-tuntetes-a...   \n",
       "7  http://napimigrans.com/video-220-milliot-kolte...   \n",
       "8  http://napimigrans.com/hogyan-romboljuk-le-a-h...   \n",
       "9  http://napimigrans.com/europa-megeroszakolasa-...   \n",
       "\n",
       "                                                text  cluster_membership  \\\n",
       "0  2016-02-11 Több száz, egykor az ISIS fogságába...                   3   \n",
       "1  2016-02-12 Washington – A 25 éves muszlim fogv...                   3   \n",
       "2  2016-02-21 Horvátország nem engedi tovább a Sz...                   0   \n",
       "3  2016-02-24 A népvándorlás nem más, mint egy ol...                   0   \n",
       "4  2016-02-16 MILOS ZEMAN A KORÁNRA HIVATKOZIK – ...                   0   \n",
       "5  2016-02-09 Több mint 300 embert végeztek ki az...                   1   \n",
       "6  2016-02-21 Minnesota – Úgy látszik az USA-ban ...                   4   \n",
       "7  2016-02-24 Még 2014-ben szó volt róla, hogy né...                   1   \n",
       "8  2016-02-21 Az értékek viszonylagosak. Más kult...                   3   \n",
       "9  2016-02-18 Meghökkentő címlappal jelent meg a ...                   4   \n",
       "\n",
       "   dominant_topics  \n",
       "0                3  \n",
       "1                3  \n",
       "2                0  \n",
       "3                0  \n",
       "4                0  \n",
       "5                3  \n",
       "6                3  \n",
       "7                3  \n",
       "8                2  \n",
       "9                3  "
      ]
     },
     "execution_count": 23,
     "metadata": {},
     "output_type": "execute_result"
    }
   ],
   "source": [
    "corpus_df[\"dominant_topics\"] = dominant_topics\n",
    "corpus_df.head(10)"
   ]
  },
  {
   "cell_type": "code",
   "execution_count": 139,
   "metadata": {
    "collapsed": false
   },
   "outputs": [
    {
     "data": {
      "image/png": "[encoded data removed]",
      "text/plain": [
       "<matplotlib.figure.Figure at 0x275e29e8>"
      ]
     },
     "metadata": {},
     "output_type": "display_data"
    }
   ],
   "source": [
    "from operator import itemgetter\n",
    "N = 5\n",
    "counter=collections.Counter(memberships)\n",
    "cluster_memberships=[item[1] for item in\n",
    "                     sorted(counter.items(), key=itemgetter(0))]\n",
    "\n",
    "counter=collections.Counter(dominant_topics)\n",
    "topic_memberships=[item[1] for item in\n",
    "                   sorted(counter.items(), key=itemgetter(0))]\n",
    "\n",
    "ind = np.arange(N)  # the x locations for the groups\n",
    "width = 0.5       # the width of the bars\n",
    "\n",
    "fig, ax = plt.subplots()\n",
    "rects1 = ax.bar(ind, topic_memberships, width, color='r')\n",
    "\n",
    "#womenMeans = dominant_topics\n",
    "#rects2 = ax.bar(ind + width, topic_memberships, width, color='y')\n",
    "\n",
    "# add some text for labels, title and axes ticks\n",
    "ax.set_ylabel(u'Elemszám')\n",
    "ax.set_xticks(ind + width)\n",
    "ax.set_xticklabels((u'1. téma', \n",
    "                    u'2. téma', \n",
    "                    u'3. téma', \n",
    "                    u'4. téma', \n",
    "                    u'5. téma'),\n",
    "                  rotation=-45)\n",
    "\n",
    "def autolabel(rects):\n",
    "    # attach some text labels\n",
    "    for rect in rects:\n",
    "        height = rect.get_height()\n",
    "        ax.text(rect.get_x() + rect.get_width()/2., height,\n",
    "                '%d' % int(height),\n",
    "                ha='center', va='bottom')\n",
    "\n",
    "autolabel(rects1)\n",
    "\n",
    "plt.show()\n",
    "\n",
    "#ax.legend((rects1[0], rects2[0]), ('Men', 'Women'))\n"
   ]
  },
  {
   "cell_type": "code",
   "execution_count": 154,
   "metadata": {
    "collapsed": false
   },
   "outputs": [
    {
     "data": {
      "text/plain": [
       "array([[43,  3,  8,  2,  5],\n",
       "       [ 1,  0,  0,  4,  3],\n",
       "       [ 0,  0,  3,  3,  3],\n",
       "       [ 9, 21, 12, 22, 10],\n",
       "       [ 4,  0,  5,  3,  4]], dtype=int64)"
      ]
     },
     "execution_count": 154,
     "metadata": {},
     "output_type": "execute_result"
    }
   ],
   "source": [
    "cluster_topic_crosstab = pd.crosstab(corpus_df[\"dominant_topics\"], corpus_df[\"cluster_membership\"]).as_matrix()\n",
    "cluster_topic_crosstab"
   ]
  }
 ],
 "metadata": {
  "kernelspec": {
   "display_name": "Python 2",
   "language": "python",
   "name": "python2"
  },
  "language_info": {
   "codemirror_mode": {
    "name": "ipython",
    "version": 2
   },
   "file_extension": ".py",
   "mimetype": "text/x-python",
   "name": "python",
   "nbconvert_exporter": "python",
   "pygments_lexer": "ipython2",
   "version": "2.7.12"
  }
 },
 "nbformat": 4,
 "nbformat_minor": 0
}
